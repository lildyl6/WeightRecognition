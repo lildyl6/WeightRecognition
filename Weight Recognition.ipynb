{
 "cells": [
  {
   "cell_type": "code",
   "execution_count": 1,
   "id": "14a417ae-144e-4bde-92f3-36e8a59b1def",
   "metadata": {},
   "outputs": [],
   "source": [
    "# imports\n",
    "import cv2 as cv\n",
    "import numpy as np\n",
    "import os\n",
    "\n",
    "import torch\n",
    "from torch import nn\n",
    "from torch.optim import Adam\n",
    "import torch.nn.functional as F\n",
    "import matplotlib.pyplot as plt\n",
    "import pandas as pd\n",
    "from sklearn.model_selection import train_test_split\n",
    "\n",
    "from torch.utils.data import DataLoader\n",
    "#from torchvision.tranforms import ToTensor\n",
    "\n",
    "%matplotlib inline"
   ]
  },
  {
   "cell_type": "code",
   "execution_count": 2,
   "id": "fe9ed7e1-d920-43d3-8e1e-9db91b48ba7c",
   "metadata": {},
   "outputs": [
    {
     "name": "stdout",
     "output_type": "stream",
     "text": [
      "[[100 115 124 ...  56  33  16]\n",
      " [ 42  91  96 ...  34  29  14]\n",
      " [ 57  75  79 ...  10  13  19]\n",
      " ...\n",
      " [ 26  33  41 ...  28  29  17]\n",
      " [ 42  39  36 ...  35  41  55]\n",
      " [ 58  47  40 ...  30  78   9]]\n",
      "1994.0368602410538\n",
      "[[0.05014952 0.05767195 0.06218541 ... 0.02808373 0.01654934 0.00802392]\n",
      " [0.0210628  0.04563607 0.04814354 ... 0.01705084 0.01454336 0.00702093]\n",
      " [0.02858523 0.03761214 0.03961812 ... 0.00501495 0.00651944 0.00952841]\n",
      " ...\n",
      " [0.01303888 0.01654934 0.0205613  ... 0.01404187 0.01454336 0.00852542]\n",
      " [0.0210628  0.01955831 0.01805383 ... 0.01755233 0.0205613  0.02758224]\n",
      " [0.02908672 0.02357028 0.02005981 ... 0.01504486 0.03911663 0.00451346]]\n"
     ]
    }
   ],
   "source": [
    "#Testing\n",
    "\n",
    "\n",
    "img = cv.imread('Pepperoni/Images/b1/b1p11.png', 0)\n",
    "\n",
    "small = cv.resize(img, (50,70))\n",
    "#smallblur = cv.blur(small, (5,5))\n",
    "\n",
    "\n",
    "'''\n",
    "cv.imshow('small', small)\n",
    "cv.waitKey(0)\n",
    "cv.destroyAllWindows()\n",
    "cv.waitKey(1)\n",
    "'''\n",
    "\n",
    "\n",
    "print(small)\n",
    "norm = np.linalg.norm(small)\n",
    "print(norm)\n",
    "small = small/norm\n",
    "print(small)\n"
   ]
  },
  {
   "cell_type": "code",
   "execution_count": 3,
   "id": "ea1832ef-9161-443f-88e1-c5b882f47032",
   "metadata": {},
   "outputs": [],
   "source": [
    "## Getting Labels\n",
    "\n",
    "def convert_to_single(x):\n",
    "    x = round(int(x), -1)\n",
    "    x = x/10 - 1\n",
    "    return x\n",
    "\n",
    "def get_label_batch(dir, num_labels):\n",
    "    for i in range(1, num_labels+1):\n",
    "        filepath = dir + str(i) + '.txt'\n",
    "        with open(filepath, 'r') as file:\n",
    "            label = file.read()\n",
    "            #label = convert_to_single(label) # CONVERT 1-10\n",
    "            labels.append(int(label))\n",
    "\n",
    "def get_labels():\n",
    "    get_label_batch('Pepperoni/Labels/b1/b1p', 18)\n",
    "    get_label_batch('Pepperoni/Labels/b2/b2p', 21)\n",
    "    get_label_batch('Pepperoni/Labels/b3/b3p', 9)\n",
    "    get_label_batch('Pepperoni/Labels/b4/b4p', 25)\n",
    "    get_label_batch('Pepperoni/Labels/b5/b5p', 8)\n",
    "    get_label_batch('Pepperoni/Labels/b6/b6p', 53)"
   ]
  },
  {
   "cell_type": "code",
   "execution_count": 5,
   "id": "6daba019-0130-4801-9fa0-3990f9a882a4",
   "metadata": {},
   "outputs": [],
   "source": [
    "# Getting Images\n",
    "\n",
    "def preprocess(img):\n",
    "    img = cv.blur(img, (20, 20))\n",
    "    img = cv.resize(img, (50, 70))\n",
    "    img = img.flatten()\n",
    "    return img\n",
    "\n",
    "def get_img_batch(dir, num_imgs):\n",
    "    for i in range(1, num_imgs+1):\n",
    "        filepath = dir + str(i) + '.png'\n",
    "        img = cv.imread(filepath, 0)\n",
    "        img = preprocess(img)\n",
    "        imgs.append(img)\n",
    "\n",
    "def get_imgs():\n",
    "    get_img_batch('Pepperoni/Images/b1/b1p', 18)\n",
    "    get_img_batch('Pepperoni/Images/b2/b2p', 21)\n",
    "    get_img_batch('Pepperoni/Images/b3/b3p', 9)\n",
    "    get_img_batch('Pepperoni/Images/b4/b4p', 25)\n",
    "    get_img_batch('Pepperoni/Images/b5/b5p', 8)\n",
    "    get_img_batch('Pepperoni/Images/b6/b6p', 53)"
   ]
  },
  {
   "cell_type": "code",
   "execution_count": 13,
   "id": "71d590d6-3049-4f78-b1db-619110f47bff",
   "metadata": {},
   "outputs": [],
   "source": [
    "class Model(nn.Module):\n",
    "    def __init__(self, in_features=3500, h1=64, h2=218, h3=256, h4=512, h5=1024, out_features=128):\n",
    "        super().__init__()\n",
    "        \n",
    "        self.fc1 = nn.Linear(in_features, h1)\n",
    "        #self.dropout1 = nn.Dropout(0.2)\n",
    "        self.fc2 = nn.Linear(h1, h2)\n",
    "        #self.dropout2 = nn.Dropout(0.2)\n",
    "        self.fc3 = nn.Linear(h2, h3)\n",
    "        #self.dropout3 = nn.Dropout(0.2)\n",
    "        self.fc4 = nn.Linear(h3, h4)\n",
    "        #self.dropout4 = nn.Dropout(0.2)\n",
    "        self.fc5 = nn.Linear(h4, h5)\n",
    "        #self.dropout5 = nn.Dropout(0.2)\n",
    "        self.out = nn.Linear(h5, out_features)\n",
    "\n",
    "    def forward(self, x):\n",
    "        x = F.relu(self.fc1(x))\n",
    "        #x = self.dropout1(x)\n",
    "        x = F.relu(self.fc2(x))\n",
    "        #x = self.dropout2(x)\n",
    "        x = F.relu(self.fc3(x))\n",
    "        #x = self.dropout3(x)\n",
    "        x = F.relu(self.fc4(x))\n",
    "        #x = self.dropout4(x)\n",
    "        x = F.relu(self.fc5(x))\n",
    "        #x = self.dropout5(x)\n",
    "        x = self.out(x)\n",
    "\n",
    "        return x"
   ]
  },
  {
   "cell_type": "code",
   "execution_count": 14,
   "id": "10cfa326-ecbb-4088-8d2c-888280c2ae09",
   "metadata": {},
   "outputs": [
    {
     "data": {
      "text/plain": [
       "(134,)"
      ]
     },
     "execution_count": 14,
     "metadata": {},
     "output_type": "execute_result"
    }
   ],
   "source": [
    "# GET LABELS\n",
    "labels = []\n",
    "get_labels()\n",
    "np.shape(labels)\n",
    "#np.array(sorted(labels))"
   ]
  },
  {
   "cell_type": "code",
   "execution_count": 15,
   "id": "bbb3f0c8-459b-4704-bfc7-5a8aeee2eff2",
   "metadata": {},
   "outputs": [
    {
     "data": {
      "text/plain": [
       "(134, 3500)"
      ]
     },
     "execution_count": 15,
     "metadata": {},
     "output_type": "execute_result"
    }
   ],
   "source": [
    "# GET IMAGES\n",
    "imgs = []\n",
    "get_imgs()\n",
    "np.shape(imgs)"
   ]
  },
  {
   "cell_type": "code",
   "execution_count": 100,
   "id": "9a4229a2-8c4d-4035-ac6b-ceaf8415c3ec",
   "metadata": {},
   "outputs": [
    {
     "data": {
      "text/plain": [
       "torch.Size([127, 3500])"
      ]
     },
     "execution_count": 100,
     "metadata": {},
     "output_type": "execute_result"
    }
   ],
   "source": [
    "# GET TRAIN/TEST SPLIT\n",
    "X = imgs\n",
    "y = labels\n",
    "X_train, X_test, y_train, y_test = train_test_split(X, y, test_size=0.05)\n",
    "X_train = torch.Tensor(X_train)\n",
    "X_test = torch.Tensor(X_test)\n",
    "y_train = torch.LongTensor(y_train)\n",
    "y_test = torch.LongTensor(y_test)\n",
    "np.shape(X_train)"
   ]
  },
  {
   "cell_type": "code",
   "execution_count": 101,
   "id": "9cb4a9f1-2f54-4e16-b4df-c2fda62c661a",
   "metadata": {},
   "outputs": [],
   "source": [
    "# CREATE MODEL (RUN MODEL CELL TO UPDATE)\n",
    "\n",
    "model = Model()\n",
    "criterion = nn.CrossEntropyLoss()\n",
    "optimizer = torch.optim.Adam(model.parameters(), lr=0.00001, weight_decay=0.1)"
   ]
  },
  {
   "cell_type": "code",
   "execution_count": 106,
   "id": "2639899d-c4d7-493c-85a3-61abdd9aa947",
   "metadata": {},
   "outputs": [
    {
     "name": "stdout",
     "output_type": "stream",
     "text": [
      "Epoch: 0 Loss: 0.13641084730625153\n",
      "Epoch: 100 Loss: 0.12898381054401398\n",
      "Epoch: 200 Loss: 0.12242099642753601\n",
      "Epoch: 300 Loss: 0.1177564412355423\n",
      "Epoch: 400 Loss: 0.11413881182670593\n",
      "Epoch: 500 Loss: 0.11095564067363739\n",
      "Epoch: 600 Loss: 0.10786538571119308\n",
      "Epoch: 700 Loss: 0.10512221604585648\n",
      "Epoch: 800 Loss: 0.10252568125724792\n",
      "Epoch: 900 Loss: 0.10015112161636353\n"
     ]
    }
   ],
   "source": [
    "# TRAINING\n",
    "epochs = 1000\n",
    "losses = []\n",
    "for i in range(epochs):\n",
    "    y_pred = model.forward(X_train) #train\n",
    "    loss = criterion(y_pred, y_train) #track loss\n",
    "    losses.append(loss.detach().numpy())#converting idk\n",
    "\n",
    "    #printing\n",
    "    if i % 100 == 0:\n",
    "        print(f'Epoch: {i} Loss: {loss}')\n",
    "\n",
    "    \n",
    "    #back propogation ----fine tuning weights\n",
    "    optimizer.zero_grad()\n",
    "    loss.backward()\n",
    "    optimizer.step()"
   ]
  },
  {
   "cell_type": "code",
   "execution_count": 107,
   "id": "bee47934-660f-4aab-9b5c-4e0d48d11371",
   "metadata": {},
   "outputs": [
    {
     "data": {
      "text/plain": [
       "Text(0, 0.5, 'Loss')"
      ]
     },
     "execution_count": 107,
     "metadata": {},
     "output_type": "execute_result"
    },
    {
     "data": {
      "image/png": "[encoded data removed]",
      "text/plain": [
       "<Figure size 640x480 with 1 Axes>"
      ]
     },
     "metadata": {},
     "output_type": "display_data"
    }
   ],
   "source": [
    "plt.plot(range(epochs), losses)\n",
    "plt.xlabel('Epochs')\n",
    "plt.ylabel('Loss')"
   ]
  },
  {
   "cell_type": "code",
   "execution_count": 108,
   "id": "e8b8f15c-4e3a-4216-b719-1b2f80f5eb97",
   "metadata": {},
   "outputs": [
    {
     "name": "stdout",
     "output_type": "stream",
     "text": [
      "Train Accuracy: 1.0\n"
     ]
    }
   ],
   "source": [
    "# results of training\n",
    "num_right = 0\n",
    "with torch.no_grad():\n",
    "    for i, data in enumerate(X_train):\n",
    "        y_val = model.forward(data)\n",
    "        if y_val.argmax() == y_train[i]:\n",
    "            num_right += 1\n",
    "print(f'Train Accuracy: {num_right / len(X_train)}')"
   ]
  },
  {
   "cell_type": "code",
   "execution_count": 109,
   "id": "c8b85a10-1e72-46c8-bbe7-b5c3688b7835",
   "metadata": {},
   "outputs": [
    {
     "name": "stdout",
     "output_type": "stream",
     "text": [
      "pred: 82 \t actual: 87\n",
      "pred: 78 \t actual: 72\n",
      "pred: 74 \t actual: 75\n",
      "pred: 82 \t actual: 84\n",
      "pred: 117 \t actual: 113\n",
      "pred: 85 \t actual: 70\n",
      "pred: 111 \t actual: 112\n",
      "Test Avg Diff: 4.857142925262451\n"
     ]
    }
   ],
   "source": [
    "#testing\n",
    "acc = 0\n",
    "with torch.no_grad():\n",
    "    for i, data in enumerate(X_test):\n",
    "        y_val = model.forward(data)\n",
    "        acc = acc + (abs(y_val.argmax() - y_test[i]))\n",
    "        print(f'pred: {y_val.argmax()} \\t actual: {y_test[i]}')\n",
    "print(f'Test Avg Diff: {acc/len(X_test)}')"
   ]
  },
  {
   "cell_type": "code",
   "execution_count": null,
   "id": "7b69d007-4bad-4457-b540-573c0f2447b0",
   "metadata": {},
   "outputs": [],
   "source": []
  }
 ],
 "metadata": {
  "kernelspec": {
   "display_name": "Python 3 (ipykernel)",
   "language": "python",
   "name": "python3"
  },
  "language_info": {
   "codemirror_mode": {
    "name": "ipython",
    "version": 3
   },
   "file_extension": ".py",
   "mimetype": "text/x-python",
   "name": "python",
   "nbconvert_exporter": "python",
   "pygments_lexer": "ipython3",
   "version": "3.11.7"
  }
 },
 "nbformat": 4,
 "nbformat_minor": 5
}
